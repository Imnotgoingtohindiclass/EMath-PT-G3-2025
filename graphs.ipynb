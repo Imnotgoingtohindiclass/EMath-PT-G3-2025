{
 "cells": [
  {
   "cell_type": "code",
   "execution_count": null,
   "metadata": {
    "vscode": {
     "languageId": "plaintext"
    }
   },
   "outputs": [],
   "source": [
    "%pip install -r requirements.txt"
   ]
  },
  {
   "cell_type": "code",
   "execution_count": null,
   "metadata": {
    "vscode": {
     "languageId": "plaintext"
    }
   },
   "outputs": [],
   "source": [
    "# Group similar degrees together\n",
    "import pandas as pd\n",
    "import matplotlib.pyplot as plt\n",
    "import numpy as np\n",
    "import seaborn as sns\n",
    "\n",
    "# Load the data\n",
    "file_path = \"GraduateEmploymentSurveyNTUNUSSITSMUSUSSSUTD - GraduateEmploymentSurveyNTUNUSSITSMUSUSSSUTD.csv.csv\"\n",
    "df = pd.read_csv(file_path)\n",
    "\n",
    "# Ensure numeric columns are properly converted\n",
    "df['(OER) Overall Employment Rate'] = pd.to_numeric(df['(OER) Overall Employment Rate'], errors='coerce')\n",
    "df['(GMM) Gross Monthly Mean'] = pd.to_numeric(df['(GMM) Gross Monthly Mean'], errors='coerce')\n",
    "df['(PFTER) Permanent Full Time Employment Rate'] = pd.to_numeric(df['(PFTER) Permanent Full Time Employment Rate'], errors='coerce')\n",
    "\n",
    "# Function to categorize degrees\n",
    "def categorize_degree(degree):\n",
    "    keywords = {\n",
    "        \"Computer Science\": [\"Computer Science\", \"Computing\", \"Information Systems\", \"Information Technology\"],\n",
    "        \"Engineering\": [\"Engineering\", \"Electrical\", \"Mechanical\", \"Civil\", \"Aerospace\"],\n",
    "        \"Business\": [\"Business\", \"Finance\", \"Accounting\", \"Management\"],\n",
    "        \"Sciences\": [\"Biology\", \"Physics\", \"Mathematics\", \"Chemistry\"],\n",
    "        \"Arts & Social Sciences\": [\"Arts\", \"Social Sciences\", \"Psychology\", \"Political Science\"],\n",
    "        \"Medicine & Health\": [\"Medicine\", \"Nursing\", \"Pharmacy\", \"Health\"],\n",
    "        \"Law\": [\"Law\", \"Legal\"],\n",
    "    }\n",
    "    for category, words in keywords.items():\n",
    "        if any(word in degree for word in words):\n",
    "            return category\n",
    "    return \"Other\"\n",
    "\n",
    "# Apply categorization\n",
    "df['degree_category'] = df['degree'].astype(str).apply(categorize_degree)\n",
    "\n",
    "degree_grouped = df.groupby('degree_category', as_index=False).mean(numeric_only=True)\n",
    "\n",
    "# 1. Bar Chart – Employment rates by degree type\n",
    "plt.figure(figsize=(10, 6))\n",
    "sns.barplot(x='(OER) Overall Employment Rate', y='degree_category', data=degree_grouped, errorbar=None)\n",
    "plt.xlabel(\"Overall Employment Rate (%)\")\n",
    "plt.ylabel(\"Degree Category\")\n",
    "plt.title(\"Overall Employment Rate by Degree Category\")\n",
    "plt.show()\n",
    "\n",
    "# 2. Box Plot – Salary distribution by degree type\n",
    "plt.figure(figsize=(10, 6))\n",
    "sns.boxplot(x='(GMM) Gross Monthly Mean', y='degree_category', data=df)\n",
    "plt.xlabel(\"Gross Monthly Mean Salary (SGD)\")\n",
    "plt.ylabel(\"Degree Category\")\n",
    "plt.title(\"Salary Distribution by Degree Category\")\n",
    "plt.show()\n",
    "\n",
    "# 3. Scatter Plot with Trend Lines – Employment rate vs. salary\n",
    "plt.figure(figsize=(10, 6))\n",
    "for category in df['degree_category'].unique():\n",
    "    subset = df[df['degree_category'] == category]\n",
    "    sns.regplot(x='(OER) Overall Employment Rate', y='(GMM) Gross Monthly Mean', data=subset, label=category, scatter_kws={'alpha':0.5}, line_kws={'linewidth':2})\n",
    "plt.xlabel(\"Overall Employment Rate (%)\")\n",
    "plt.ylabel(\"Gross Monthly Mean Salary (SGD)\")\n",
    "plt.title(\"Employment Rate vs. Salary with Trend Lines\")\n",
    "plt.legend(title=\"Degree Category\", bbox_to_anchor=(1.05, 1), loc='upper left')\n",
    "plt.show()\n",
    "\n",
    "# 4. Stacked Bar Chart – Employment breakdown by degree type\n",
    "df_grouped = df.groupby('degree_category')[['(OER) Overall Employment Rate', '(PFTER) Permanent Full Time Employment Rate']].mean()\n",
    "df_grouped.plot(kind='bar', stacked=True, figsize=(10, 6))\n",
    "plt.xlabel(\"Degree Category\")\n",
    "plt.ylabel(\"Employment Rate (%)\")\n",
    "plt.title(\"Employment Breakdown by Degree Category\")\n",
    "plt.legend([\"Overall Employment Rate\", \"Permanent Full-Time Employment Rate\"])\n",
    "plt.xticks(rotation=45)\n",
    "plt.show()\n"
   ]
  }
 ],
 "metadata": {
  "language_info": {
   "name": "python"
  }
 },
 "nbformat": 4,
 "nbformat_minor": 2
}
